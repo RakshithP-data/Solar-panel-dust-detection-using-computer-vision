{
 "cells": [
  {
   "cell_type": "code",
   "execution_count": 13,
   "id": "88c597c3",
   "metadata": {},
   "outputs": [],
   "source": [
    "import os\n",
    "import numpy as np\n",
    "from tensorflow.keras.preprocessing.image import ImageDataGenerator, array_to_img\n",
    "import cv2\n",
    "from tqdm import tqdm"
   ]
  },
  {
   "cell_type": "code",
   "execution_count": 14,
   "id": "2f5954c8",
   "metadata": {},
   "outputs": [],
   "source": [
    "# Define augmentation parameters\n",
    "data_generator = ImageDataGenerator(\n",
    "    rotation_range = 45,  # Rotate images by -45 to 45 degrees\n",
    "    horizontal_flip = True,  # Flip images horizontally\n",
    "    vertical_flip = True,  # Flip images vertically\n",
    "    brightness_range = [0.5, 1.5]  # Adjust brightness by a factor of 0.5 to 1.5\n",
    ")"
   ]
  },
  {
   "cell_type": "code",
   "execution_count": 16,
   "id": "34482258",
   "metadata": {},
   "outputs": [
    {
     "name": "stderr",
     "output_type": "stream",
     "text": [
      "100%|████████████████████████████████████████████████████████████████████████████████| 726/726 [38:40<00:00,  3.20s/it]\n"
     ]
    }
   ],
   "source": [
    "# Get directory path of original images\n",
    "image_dir = \"Detect_solar_dust/Clean/\"\n",
    "\n",
    "# Create a new directory to save augmented images\n",
    "new_dir = os.path.join(image_dir, \"Augmented_images\")\n",
    "if not os.path.exists(new_dir):\n",
    "    os.makedirs(new_dir)\n",
    "    \n",
    "# Loop through each image in the directory\n",
    "for image_file in tqdm(os.listdir(image_dir)):\n",
    "    # Load the image\n",
    "    if image_file == 'Augmented_images':\n",
    "        continue\n",
    "    else:\n",
    "        image_path = os.path.join(image_dir, image_file)\n",
    "        img = cv2.imread(image_path, cv2.IMREAD_COLOR)\n",
    "        img = cv2.cvtColor(img, cv2.COLOR_BGR2RGB)\n",
    "        image = np.expand_dims(array_to_img(img), 0)\n",
    "\n",
    "    # Generate augmented images\n",
    "    augmented_images = data_generator.flow(image, batch_size = 1, save_to_dir = new_dir, save_prefix = image_file[:-4], save_format = \"jpg\")\n",
    "\n",
    "    # Generate and save each augmented image\n",
    "    for i in range(5):  # Generate 5 augmented images for each original image\n",
    "        augmented_image = augmented_images.next()"
   ]
  },
  {
   "cell_type": "code",
   "execution_count": 17,
   "id": "6f773c52",
   "metadata": {},
   "outputs": [
    {
     "name": "stderr",
     "output_type": "stream",
     "text": [
      "100%|████████████████████████████████████████████████████████████████████████████████| 493/493 [20:17<00:00,  2.47s/it]\n"
     ]
    }
   ],
   "source": [
    "# Get directory path of original images\n",
    "image_dir = \"Detect_solar_dust/Dusty/\"\n",
    "\n",
    "# Create a new directory to save augmented images\n",
    "new_dir = os.path.join(image_dir, \"Augmented_images\")\n",
    "if not os.path.exists(new_dir):\n",
    "    os.makedirs(new_dir)\n",
    "    \n",
    "# Loop through each image in the directory\n",
    "for image_file in tqdm(os.listdir(image_dir)):\n",
    "    # Load the image\n",
    "    if image_file == 'Augmented_images':\n",
    "        continue\n",
    "    else:\n",
    "        image_path = os.path.join(image_dir, image_file)\n",
    "        img = cv2.imread(image_path, cv2.IMREAD_COLOR)\n",
    "        img = cv2.cvtColor(img, cv2.COLOR_BGR2RGB)\n",
    "        image = np.expand_dims(array_to_img(img), 0)\n",
    "\n",
    "    # Generate augmented images\n",
    "    augmented_images = data_generator.flow(image, batch_size = 1, save_to_dir = new_dir, save_prefix = image_file[:-4], save_format = \"jpg\")\n",
    "\n",
    "    # Generate and save each augmented image\n",
    "    for i in range(5):  # Generate 5 augmented images for each original image\n",
    "        augmented_image = augmented_images.next()"
   ]
  }
 ],
 "metadata": {
  "kernelspec": {
   "display_name": "Python 3 (ipykernel)",
   "language": "python",
   "name": "python3"
  },
  "language_info": {
   "codemirror_mode": {
    "name": "ipython",
    "version": 3
   },
   "file_extension": ".py",
   "mimetype": "text/x-python",
   "name": "python",
   "nbconvert_exporter": "python",
   "pygments_lexer": "ipython3",
   "version": "3.8.16"
  }
 },
 "nbformat": 4,
 "nbformat_minor": 5
}
